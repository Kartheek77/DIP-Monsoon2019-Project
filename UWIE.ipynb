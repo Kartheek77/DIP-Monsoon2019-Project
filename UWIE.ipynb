{
 "cells": [
  {
   "cell_type": "code",
   "execution_count": 120,
   "metadata": {},
   "outputs": [],
   "source": [
    "import cv2\n",
    "import numpy as np \n",
    "import matplotlib.pyplot as plt\n",
    "%matplotlib inline\n",
    "from tqdm import tqdm_notebook as tqdm"
   ]
  },
  {
   "cell_type": "code",
   "execution_count": 121,
   "metadata": {},
   "outputs": [],
   "source": [
    "def objectiveFunction(w,image):\n",
    "    #compute the histogram\n",
    "    #print('w in the objectiveFunction is ')\n",
    "    #print(w)\n",
    "    TotalNumberOfPixelsInImage = (image.shape[0])*(image.shape[1]) \n",
    "    NumberofPixelsPerIntensity = np.zeros(256)\n",
    "    for i in range(0,256):\n",
    "        NumberofPixelsPerIntensity[i] = np.sum(image==i)\n",
    "    probDensity = NumberofPixelsPerIntensity/TotalNumberOfPixelsInImage\n",
    "    #from w compute the lower and upper limits\n",
    "    lowerLimit = 0\n",
    "    upperLimit = 255\n",
    "    tempSum = 0\n",
    "    for i in range(0,256):\n",
    "        tempSum += probDensity[i]\n",
    "        if(tempSum>w):\n",
    "            lowerLimit = i\n",
    "            break\n",
    "    tempSum = 0\n",
    "    for i in range(0,256):\n",
    "        tempSum += probDensity[255-i]\n",
    "        if(tempSum>w):\n",
    "            upperLimit = int(255-i)\n",
    "            break\n",
    "    if(lowerLimit==0 and upperLimit==0):\n",
    "        lowerLimit = 0\n",
    "        upperLimit = 255\n",
    "    if(lowerLimit==upperLimit):\n",
    "        print(w)\n",
    "    #perform contrast stretching to map lower and upper limits to a and b\n",
    "    a = 0\n",
    "    b = 255\n",
    "    factor = ((b-a)/(upperLimit-lowerLimit))\n",
    "    transformedImage = np.round_(a+((image-lowerLimit)*factor))    \n",
    "    #compute the histogram of transformed image\n",
    "    NumberofPixelsPerIntensity = np.zeros(256)\n",
    "    for i in range(0,256):\n",
    "        NumberofPixelsPerIntensity[i] = np.sum(transformedImage==i)\n",
    "    NewprobDensity = NumberofPixelsPerIntensity/TotalNumberOfPixelsInImage\n",
    "    #compute the entropy\n",
    "    NonZeroNewProbDensity = NewprobDensity[NewprobDensity>0]\n",
    "    entropy = -1*np.sum(NonZeroNewProbDensity*np.log2(NonZeroNewProbDensity))\n",
    "    #compute the average gradient\n",
    "    dy,dx = np.gradient(transformedImage)\n",
    "    avg_gradient = np.sum(np.sqrt((dy*dy)+(dx*dx)))/TotalNumberOfPixelsInImage\n",
    "    #return sum of these\n",
    "    return entropy+avg_gradient"
   ]
  },
  {
   "cell_type": "code",
   "execution_count": 122,
   "metadata": {},
   "outputs": [
    {
     "data": {
      "text/plain": [
       "array([ 3,  8, 10])"
      ]
     },
     "execution_count": 122,
     "metadata": {},
     "output_type": "execute_result"
    }
   ],
   "source": [
    "a = np.array([3,0,8,0,10])\n",
    "a[a >0 ]"
   ]
  },
  {
   "cell_type": "code",
   "execution_count": 123,
   "metadata": {},
   "outputs": [],
   "source": [
    "def DEAlgo1(image,objectiveFunction,MutationParameter = 0.8,crossp = 0.7, SizeOfPopulation = 20, iterations = 1000):\n",
    "    minimumW = 0\n",
    "    maximumW = 0.5\n",
    "    Population = (minimumW + ((np.random.rand(SizeOfPopulation))*(maximumW - minimumW)))\n",
    "    BestOfPopulationIndex = np.argmin(np.asarray([objectiveFunction(image,tempW) for tempW in Population]))\n",
    "    BestOfPopulation = Population[BestOfPopulationIndex]\n",
    "    for i in range(0,iterations):\n",
    "        for j in range(0,SizeOfPopulation):\n",
    "            ArrayWithoutIndexJ = np.delete(range(SizeOfPopulation),[j])\n",
    "            #select three random elements from here\n",
    "            r1,r2,r3 = Population[np.random.choice(ArrayWithoutIndexJ, 3, replace = False)]\n",
    "            MutantVectorV = np.clip(r1 + MutationParameter * (r2 - r3), minimumW, maximumW)\n",
    "            "
   ]
  },
  {
   "cell_type": "code",
   "execution_count": 130,
   "metadata": {},
   "outputs": [],
   "source": [
    "def DEAlgo2(image,objectiveFunction,mut=0.8, crossp=0.7, popsize=40, its=1000):\n",
    "    bounds =  [(0,0.4)]\n",
    "    dimensions = len(bounds)\n",
    "    pop = np.random.rand(popsize, dimensions)\n",
    "    min_b, max_b = np.asarray(bounds).T\n",
    "    diff = np.fabs(min_b - max_b)\n",
    "    pop_denorm = min_b + pop * diff\n",
    "    fitness = np.asarray([objectiveFunction(ind,image) for ind in pop_denorm])\n",
    "    best_idx = np.argmin(fitness)\n",
    "    best = pop_denorm[best_idx]\n",
    "    for i in tqdm(range(its)):\n",
    "        for j in range(popsize):\n",
    "            idxs = [idx for idx in range(popsize) if idx != j]\n",
    "            a, b, c = pop[np.random.choice(idxs, 3, replace = False)]\n",
    "            mutant = np.clip(a + mut * (b - c), 0, 1)\n",
    "            cross_points = np.random.rand(dimensions) < crossp\n",
    "            if not np.any(cross_points):\n",
    "                cross_points[np.random.randint(0, dimensions)] = True\n",
    "            trial = np.where(cross_points, mutant, pop[j])\n",
    "            trial_denorm = min_b + trial * diff\n",
    "            f = objectiveFunction(trial_denorm,image)\n",
    "            if f < fitness[j]:\n",
    "                fitness[j] = f\n",
    "                pop[j] = trial\n",
    "                if f < fitness[best_idx]:\n",
    "                    best_idx = j\n",
    "                    best = trial_denorm\n",
    "    return best, fitness[best_idx]"
   ]
  },
  {
   "cell_type": "code",
   "execution_count": 131,
   "metadata": {},
   "outputs": [],
   "source": [
    "def contrastStretching(image,w):\n",
    "    #compute the histogram\n",
    "    TotalNumberOfPixelsInImage = (image.shape[0])*(image.shape[1]) \n",
    "    NumberofPixelsPerIntensity = np.zeros(256)\n",
    "    for i in range(0,256):\n",
    "        NumberofPixelsPerIntensity[i] = np.sum(image==i)\n",
    "    probDensity = NumberofPixelsPerIntensity/TotalNumberOfPixelsInImage\n",
    "    #from w compute the lower and upper limits\n",
    "    lowerLimit = 0\n",
    "    upperLimit = 255\n",
    "    tempSum = 0\n",
    "    for i in range(0,256):\n",
    "        tempSum += probDensity[i]\n",
    "        if(tempSum>w):\n",
    "            lowerLimit = i\n",
    "            break\n",
    "    tempSum = 0\n",
    "    for i in range(0,256):\n",
    "        tempSum += probDensity[int(255-i)]\n",
    "        if(tempSum>w):\n",
    "            upperLimit = int(255-i)\n",
    "            break\n",
    "    #perform contrast stretching to map lower and upper limits to a and b\n",
    "    a = 0\n",
    "    b = 255\n",
    "    factor = ((b-a)/(upperLimit-lowerLimit))\n",
    "    transformedImage = np.round_(a+((image-lowerLimit)*factor))\n",
    "    return transformedImage"
   ]
  },
  {
   "cell_type": "code",
   "execution_count": 132,
   "metadata": {},
   "outputs": [],
   "source": [
    "def EnhanceTheImage(GivenImage):\n",
    "    BestWforEachChannel = np.zeros(3)\n",
    "    for i in range(0,GivenImage.shape[-1]):\n",
    "        BestWforEachChannel[i] = DEAlgo2(GivenImage[:,:,i],objectiveFunction)[0]\n",
    "    EnhancedImage = np.zeros(GivenImage.shape)\n",
    "    for i in range(0,GivenImage.shape[-1]):\n",
    "        EnhancedImage[:,:,i] = contrastStretching(GivenImage[:,:,i],BestWforEachChannel[i])\n",
    "    return EnhancedImage        "
   ]
  },
  {
   "cell_type": "code",
   "execution_count": 133,
   "metadata": {},
   "outputs": [
    {
     "data": {
      "image/png": "[encoded data removed]",
      "text/plain": [
       "<Figure size 432x288 with 1 Axes>"
      ]
     },
     "metadata": {
      "needs_background": "light"
     },
     "output_type": "display_data"
    },
    {
     "name": "stdout",
     "output_type": "stream",
     "text": [
      "float64\n"
     ]
    }
   ],
   "source": [
    "GivenImage = cv2.imread(\"SampleImage1.jpg\")\n",
    "GivenImage = cv2.cvtColor(GivenImage, cv2.COLOR_BGR2RGB)\n",
    "GivenImage = GivenImage[275:300,225:250]\n",
    "GivenImage = GivenImage/255.0\n",
    "GivenImage = GivenImage*255\n",
    "plt.imshow(GivenImage/255)\n",
    "plt.show()\n",
    "print(GivenImage.dtype)"
   ]
  },
  {
   "cell_type": "code",
   "execution_count": 141,
   "metadata": {},
   "outputs": [
    {
     "data": {
      "application/vnd.jupyter.widget-view+json": {
       "model_id": "3bbd89b3ab094811add82b6eaefdaf18",
       "version_major": 2,
       "version_minor": 0
      },
      "text/plain": [
       "HBox(children=(IntProgress(value=0, max=1000), HTML(value='')))"
      ]
     },
     "metadata": {},
     "output_type": "display_data"
    },
    {
     "data": {
      "application/vnd.jupyter.widget-view+json": {
       "model_id": "b9ffecb8a5374ede8e2f0b12fe90d24b",
       "version_major": 2,
       "version_minor": 0
      },
      "text/plain": [
       "HBox(children=(IntProgress(value=0, max=1000), HTML(value='')))"
      ]
     },
     "metadata": {},
     "output_type": "display_data"
    },
    {
     "data": {
      "application/vnd.jupyter.widget-view+json": {
       "model_id": "652b2dbb53554daebe64ccae91df4f83",
       "version_major": 2,
       "version_minor": 0
      },
      "text/plain": [
       "HBox(children=(IntProgress(value=0, max=1000), HTML(value='')))"
      ]
     },
     "metadata": {},
     "output_type": "display_data"
    }
   ],
   "source": [
    "temp = EnhanceTheImage(GivenImage)"
   ]
  },
  {
   "cell_type": "code",
   "execution_count": 142,
   "metadata": {},
   "outputs": [
    {
     "name": "stdout",
     "output_type": "stream",
     "text": [
      "[[[132. 112.  94.]\n",
      "  [101.  81.  62.]\n",
      "  [ 72.  54.  34.]\n",
      "  ...\n",
      "  [195. 188. 172.]\n",
      "  [210. 204. 188.]\n",
      "  [210. 204. 188.]]\n",
      "\n",
      " [[121.  98.  85.]\n",
      "  [ 97.  76.  60.]\n",
      "  [ 72.  51.  39.]\n",
      "  ...\n",
      "  [148. 136. 119.]\n",
      "  [167. 157. 140.]\n",
      "  [167. 161. 145.]]\n",
      "\n",
      " [[117.  98.  83.]\n",
      "  [ 97.  78.  67.]\n",
      "  [ 72.  58.  44.]\n",
      "  ...\n",
      "  [105.  94.  76.]\n",
      "  [113. 103.  85.]\n",
      "  [115. 110.  90.]]\n",
      "\n",
      " ...\n",
      "\n",
      " [[243. 224. 198.]\n",
      "  [241. 221. 195.]\n",
      "  [236. 217. 195.]\n",
      "  ...\n",
      "  [247. 242. 234.]\n",
      "  [245. 239. 232.]\n",
      "  [245. 246. 241.]]\n",
      "\n",
      " [[230. 212. 181.]\n",
      "  [232. 208. 179.]\n",
      "  [228. 201. 177.]\n",
      "  ...\n",
      "  [245. 237. 225.]\n",
      "  [230. 221. 209.]\n",
      "  [234. 228. 221.]]\n",
      "\n",
      " [[218. 199. 168.]\n",
      "  [216. 190. 161.]\n",
      "  [216. 190. 161.]\n",
      "  ...\n",
      "  [224. 206. 193.]\n",
      "  [220. 208. 193.]\n",
      "  [222. 208. 198.]]]\n"
     ]
    }
   ],
   "source": [
    "print(temp)"
   ]
  },
  {
   "cell_type": "code",
   "execution_count": 144,
   "metadata": {},
   "outputs": [
    {
     "data": {
      "text/plain": [
       "(25, 25, 3)"
      ]
     },
     "execution_count": 144,
     "metadata": {},
     "output_type": "execute_result"
    }
   ],
   "source": [
    "temp.shape"
   ]
  },
  {
   "cell_type": "code",
   "execution_count": 160,
   "metadata": {},
   "outputs": [
    {
     "data": {
      "text/plain": [
       "1863.2949310294384"
      ]
     },
     "execution_count": 160,
     "metadata": {},
     "output_type": "execute_result"
    }
   ],
   "source": [
    "np.linalg.norm(GivenImage[:,:,1] - temp[:,:,1])"
   ]
  },
  {
   "cell_type": "code",
   "execution_count": 151,
   "metadata": {},
   "outputs": [],
   "source": [
    "temp1 = temp[:,:,0]\n",
    "temp2 = temp[:,:,1]\n",
    "temp3 = temp[:,:,2]"
   ]
  },
  {
   "cell_type": "code",
   "execution_count": 159,
   "metadata": {},
   "outputs": [
    {
     "data": {
      "image/png": "[encoded data removed]",
      "text/plain": [
       "<Figure size 432x288 with 1 Axes>"
      ]
     },
     "metadata": {
      "needs_background": "light"
     },
     "output_type": "display_data"
    },
    {
     "data": {
      "image/png": "[encoded data removed]",
      "text/plain": [
       "<Figure size 432x288 with 1 Axes>"
      ]
     },
     "metadata": {
      "needs_background": "light"
     },
     "output_type": "display_data"
    },
    {
     "data": {
      "image/png": "[encoded data removed]",
      "text/plain": [
       "<Figure size 432x288 with 1 Axes>"
      ]
     },
     "metadata": {
      "needs_background": "light"
     },
     "output_type": "display_data"
    },
    {
     "data": {
      "image/png": "[encoded data removed]",
      "text/plain": [
       "<Figure size 432x288 with 1 Axes>"
      ]
     },
     "metadata": {
      "needs_background": "light"
     },
     "output_type": "display_data"
    },
    {
     "data": {
      "image/png": "[encoded data removed]",
      "text/plain": [
       "<Figure size 432x288 with 1 Axes>"
      ]
     },
     "metadata": {
      "needs_background": "light"
     },
     "output_type": "display_data"
    },
    {
     "data": {
      "image/png": "[encoded data removed]",
      "text/plain": [
       "<Figure size 432x288 with 1 Axes>"
      ]
     },
     "metadata": {
      "needs_background": "light"
     },
     "output_type": "display_data"
    }
   ],
   "source": [
    "for i in range(0,3):\n",
    "    plt.imshow(GivenImage[:,:,i],cmap = 'gray')\n",
    "    plt.show()\n",
    "    plt.imshow(temp[:,:,i],cmap = 'gray')\n",
    "    plt.show()"
   ]
  },
  {
   "cell_type": "code",
   "execution_count": 161,
   "metadata": {},
   "outputs": [],
   "source": [
    "temp4 = np.dstack((temp1,temp2,temp3))"
   ]
  },
  {
   "cell_type": "code",
   "execution_count": 162,
   "metadata": {},
   "outputs": [
    {
     "data": {
      "text/plain": [
       "(25, 25, 3)"
      ]
     },
     "execution_count": 162,
     "metadata": {},
     "output_type": "execute_result"
    }
   ],
   "source": [
    "temp4.shape"
   ]
  },
  {
   "cell_type": "code",
   "execution_count": 165,
   "metadata": {},
   "outputs": [
    {
     "data": {
      "image/png": "[encoded data removed]",
      "text/plain": [
       "<Figure size 432x288 with 1 Axes>"
      ]
     },
     "metadata": {
      "needs_background": "light"
     },
     "output_type": "display_data"
    },
    {
     "data": {
      "image/png": "[encoded data removed]",
      "text/plain": [
       "<Figure size 432x288 with 1 Axes>"
      ]
     },
     "metadata": {
      "needs_background": "light"
     },
     "output_type": "display_data"
    }
   ],
   "source": [
    "plt.imshow(GivenImage.astype(np.uint8))\n",
    "plt.show()\n",
    "plt.imshow(temp4.astype(np.uint8))\n",
    "plt.show()"
   ]
  },
  {
   "cell_type": "code",
   "execution_count": null,
   "metadata": {},
   "outputs": [],
   "source": []
  }
 ],
 "metadata": {
  "kernelspec": {
   "display_name": "Python 3",
   "language": "python",
   "name": "python3"
  },
  "language_info": {
   "codemirror_mode": {
    "name": "ipython",
    "version": 3
   },
   "file_extension": ".py",
   "mimetype": "text/x-python",
   "name": "python",
   "nbconvert_exporter": "python",
   "pygments_lexer": "ipython3",
   "version": "3.7.3"
  }
 },
 "nbformat": 4,
 "nbformat_minor": 2
}
